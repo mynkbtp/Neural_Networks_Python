{
  "nbformat": 4,
  "nbformat_minor": 0,
  "metadata": {
    "colab": {
      "name": "NN_from_scratch.ipynb",
      "provenance": [],
      "collapsed_sections": [],
      "authorship_tag": "ABX9TyNYNhAzHEvNev+ON/tZfXdn",
      "include_colab_link": true
    },
    "kernelspec": {
      "name": "python3",
      "display_name": "Python 3"
    },
    "language_info": {
      "name": "python"
    }
  },
  "cells": [
    {
      "cell_type": "markdown",
      "metadata": {
        "id": "view-in-github",
        "colab_type": "text"
      },
      "source": [
        "<a href=\"https://colab.research.google.com/github/mynkbtp/Neural_Networks_Python/blob/main/NN_from_scratch.ipynb\" target=\"_parent\"><img src=\"https://colab.research.google.com/assets/colab-badge.svg\" alt=\"Open In Colab\"/></a>"
      ]
    },
    {
      "cell_type": "code",
      "execution_count": null,
      "metadata": {
        "id": "1pdzOyiHpwSa"
      },
      "outputs": [],
      "source": [
        ""
      ]
    },
    {
      "cell_type": "code",
      "source": [
        ""
      ],
      "metadata": {
        "id": "JLNciH05r_yN"
      },
      "execution_count": null,
      "outputs": []
    },
    {
      "cell_type": "code",
      "source": [
        "\"\"\"\n",
        "So, basically, every output @ the neuron = weight*input + bias. Each neuron has some bias which gets\n",
        "added in the output calculation\n",
        "\"\"\"\n",
        "inpt=[1,10,20,2] # 4 input neurons\n",
        "wts=[0.2,0.87,-0.62,0.42] # each incoming neuron from each of input node to output node has one wt. associated with it.\n",
        "# So, basically 4 nuerons feeds 1 output neuron\n",
        "bias = 5.8\n",
        "\n",
        "#output at the neuron\n",
        "opt=inpt[0]*wts[0]+inpt[1]*wts[1]+inpt[2]*wts[2]+inpt[3]*wts[3] + bias\n",
        "print(\"output[Single Neuron]:\",opt)"
      ],
      "metadata": {
        "colab": {
          "base_uri": "https://localhost:8080/"
        },
        "id": "wB5wozUvr_99",
        "outputId": "9ff053bb-e019-474f-df1e-7f2ad936918c"
      },
      "execution_count": 1,
      "outputs": [
        {
          "output_type": "stream",
          "name": "stdout",
          "text": [
            "output[Single Neuron]: 3.139999999999998\n"
          ]
        }
      ]
    },
    {
      "cell_type": "markdown",
      "source": [
        "**Coding a NN Layer**\n",
        "\n",
        "4 neurons of input layer are connected to 3 opt. layer neurons [Fully connected]\n",
        "\n",
        "Each opt neuron has 4 incoming wts ( 1 from each inpt layer neuron). Therefore, \n",
        "\n",
        "4x3 = 12 connections [Total connection in NN]"
      ],
      "metadata": {
        "id": "NfW_fvZIxqtc"
      }
    },
    {
      "cell_type": "code",
      "source": [
        "inpt = [2,10,3,0.8]\n",
        "\n",
        "wt1=[0.2,0.8,-0.5,1.0] # wt1 means 1st opt neuron weights\n",
        "wt2=[0.5,-0.91,0.26,-0.5] # wt2 means 2nd opt neuron incoming weights\n",
        "wt3=[-0.26,-0.27,0.17,0.87] # wt3 means 3rd opt neuron incoming weights\n",
        "\n",
        "# three biases of each of the 3 opt neuron\n",
        "bias1=2\n",
        "bias2=3\n",
        "bias3=0.5\n",
        "\"\"\"3 output neurons means we will have 3 output in a list\"\"\"\n",
        "opt = [inpt[0]*wt1[0] + inpt[1]*wt1[1] + inpt[2]*wt1[2] + inpt[3]*wt1[2] + bias1,\n",
        "       inpt[0]*wt2[0] + inpt[1]*wt2[1] + inpt[2]*wt2[2] + inpt[3]*wt2[2] + bias2,\n",
        "       inpt[0]*wt3[0] + inpt[1]*wt3[1] + inpt[2]*wt3[2] + inpt[3]*wt3[2] + bias3\n",
        "      ]\n",
        "print(\"output of the 3 neurons:\\n\",opt)\n",
        "      \n",
        "\n"
      ],
      "metadata": {
        "colab": {
          "base_uri": "https://localhost:8080/"
        },
        "id": "SUvgkGTNyvKI",
        "outputId": "e44ea558-4b43-4c7f-b8d1-04c766427286"
      },
      "execution_count": 2,
      "outputs": [
        {
          "output_type": "stream",
          "name": "stdout",
          "text": [
            "output of the 3 neurons:\n",
            " [8.5, -4.111999999999999, -2.074]\n"
          ]
        }
      ]
    },
    {
      "cell_type": "markdown",
      "source": [
        "So, if want to change the output of the neurons and bring it to certain numbers, you can only tune **weights and biases** to influence output values."
      ],
      "metadata": {
        "id": "3RX8Ax944IYn"
      }
    },
    {
      "cell_type": "code",
      "source": [
        "# Optimizing above code\n",
        "inpt = [2,10,3,0.8]\n",
        "wts = [[0.2,0.8,-0.5,1.0],\n",
        "       [0.5,-0.91,0.26,-0.5],\n",
        "       [-0.26,-0.27,0.17,0.87]\n",
        "      ]\n",
        "biases=[2,3,0.5]\n",
        "\n",
        "print(\"4 input are: \",inpt)\n",
        "\n",
        "for neuron_wts,neuron_bias in zip(wts,biases):\n",
        "  print(\"printing wts and biases\")\n",
        "  print(neuron_wts,neuron_bias)\n",
        "  for n_inpt,wt in zip(inpt,neuron_wts):\n",
        "    print(\"printing inpt and wts\")\n",
        "    print(n_inpt,wt)\n",
        "  print(\"----------------------------------\")  \n",
        "\n",
        "layer_output=[]\n",
        "for neuron_wts,neuron_bias in zip(wts,biases):\n",
        "  n_output=0\n",
        "  for n_inpt,wt in zip(inpt,neuron_wts):\n",
        "    n_output+=n_inpt*wt\n",
        "  n_output+=neuron_bias\n",
        "  layer_output.append(n_output)\n",
        "print(\"-----Layer output--------\")\n",
        "print(layer_output)"
      ],
      "metadata": {
        "colab": {
          "base_uri": "https://localhost:8080/"
        },
        "id": "Ib99ZS9n4afz",
        "outputId": "824c98a2-7b8a-46c0-a94c-561fdecf4c04"
      },
      "execution_count": 3,
      "outputs": [
        {
          "output_type": "stream",
          "name": "stdout",
          "text": [
            "4 input are:  [2, 10, 3, 0.8]\n",
            "printing wts and biases\n",
            "[0.2, 0.8, -0.5, 1.0] 2\n",
            "printing inpt and wts\n",
            "2 0.2\n",
            "printing inpt and wts\n",
            "10 0.8\n",
            "printing inpt and wts\n",
            "3 -0.5\n",
            "printing inpt and wts\n",
            "0.8 1.0\n",
            "----------------------------------\n",
            "printing wts and biases\n",
            "[0.5, -0.91, 0.26, -0.5] 3\n",
            "printing inpt and wts\n",
            "2 0.5\n",
            "printing inpt and wts\n",
            "10 -0.91\n",
            "printing inpt and wts\n",
            "3 0.26\n",
            "printing inpt and wts\n",
            "0.8 -0.5\n",
            "----------------------------------\n",
            "printing wts and biases\n",
            "[-0.26, -0.27, 0.17, 0.87] 0.5\n",
            "printing inpt and wts\n",
            "2 -0.26\n",
            "printing inpt and wts\n",
            "10 -0.27\n",
            "printing inpt and wts\n",
            "3 0.17\n",
            "printing inpt and wts\n",
            "0.8 0.87\n",
            "----------------------------------\n",
            "-----Layer output--------\n",
            "[9.7, -4.72, -1.5139999999999998]\n"
          ]
        }
      ]
    },
    {
      "cell_type": "markdown",
      "source": [
        "- **Weights** : weights basically changes the magnitude of a  value.\n",
        "- **Bias** : Bias **offsets** the value by certain margin.\n",
        "\n",
        "Example follows."
      ],
      "metadata": {
        "id": "HF5YVr2VCQMj"
      }
    },
    {
      "cell_type": "code",
      "source": [
        "a1 = 0.5\n",
        "weight = -0.8\n",
        "bias = 0.8\n",
        "print(\"Effect of weight and bias on a value\")\n",
        "print(\"--- Weight effects---\")\n",
        "print(a1*weight)\n",
        "print(\"----- Bias effects----\")\n",
        "print(a1+bias)"
      ],
      "metadata": {
        "colab": {
          "base_uri": "https://localhost:8080/"
        },
        "id": "kIA5NmALCm6r",
        "outputId": "dae5d382-7785-48df-83d8-d39f0ccf8862"
      },
      "execution_count": 4,
      "outputs": [
        {
          "output_type": "stream",
          "name": "stdout",
          "text": [
            "Effect of weight and bias on a value\n",
            "--- Weight effects---\n",
            "-0.4\n",
            "----- Bias effects----\n",
            "1.3\n"
          ]
        }
      ]
    },
    {
      "cell_type": "code",
      "source": [
        "\"\"\"Using Dot PRODUCT\"\"\"\n",
        "import numpy as np\n",
        "\n",
        "inpt = [2,10,3,0.8]\n",
        "wts = [[0.2,0.8,-0.5,1.0],\n",
        "       [0.5,-0.91,0.26,-0.5],\n",
        "       [-0.26,-0.27,0.17,0.87]\n",
        "      ]\n",
        "bias=[2,3,0.5]\n",
        "print(\"Input shape:\",np.array(inpt).shape)\n",
        "print(\"Weights shape:\",np.array(wts).shape)\n",
        "print(\"-------- printing layer output using DOT Product ---------------\")\n",
        "layer_opt = np.dot(wts,inpt)+bias # in np.dot---> weights should come first since- #cols of mtx2 == #rows of mtx1\n",
        "\n",
        "print(layer_opt)"
      ],
      "metadata": {
        "colab": {
          "base_uri": "https://localhost:8080/"
        },
        "id": "ccReZyl2sAA5",
        "outputId": "f9eb1955-87f5-4535-b27c-711409bc54d7"
      },
      "execution_count": 5,
      "outputs": [
        {
          "output_type": "stream",
          "name": "stdout",
          "text": [
            "Input shape: (4,)\n",
            "Weights shape: (3, 4)\n",
            "-------- printing layer output using DOT Product ---------------\n",
            "[ 9.7   -4.72  -1.514]\n"
          ]
        }
      ]
    },
    {
      "cell_type": "markdown",
      "source": [
        "**Batch Input Processing**\n",
        "\n",
        "Consider a scenario, where we are taking input from 4 sensors, **BUT** @ 10 different instance of time, say, t1, t2, t3......t10.\n",
        "\n",
        "This will create [10,4] shaped matrix.\n",
        "\n",
        "Instead of passing each input one by one and calculating output, we can pass input in batches, say **batch=3** i.e. 3 inputs are passed at a time and output is calculated for them at once.\n",
        "\n"
      ],
      "metadata": {
        "id": "9e4byRIHIO1P"
      }
    },
    {
      "cell_type": "code",
      "source": [
        "\"\"\"4 input neurons, 3 output neurons\"\"\"\n",
        "# batch input\n",
        "input=[[2,1,0.5,4.2],[3,0.33,-0.2,12],[0.8,5,4,10]]\n",
        "print(\"Batch input: \",input)\n",
        "\n",
        "wts = [[0.2,0.8,-0.5,1.0],\n",
        "       [0.5,-0.91,0.26,-0.5],\n",
        "       [-0.26,-0.27,0.17,0.87]\n",
        "      ]\n",
        "bias=[2,3,0.5]\n",
        "\n",
        "print(\"input shape: \",np.array(input).shape)\n",
        "print(\"weights shape: \",np.array(wts).shape)\n",
        "print(\"Transpoing weights inorder to perform dot product:\\n\",np.array(wts).T)\n",
        "output = np.dot(input,np.array(wts).T)+bias\n",
        "print(\"--------output------------\\n\",output)\n"
      ],
      "metadata": {
        "colab": {
          "base_uri": "https://localhost:8080/"
        },
        "id": "o0pWaw7drxNq",
        "outputId": "8e400e39-ac44-48f1-d36a-0098a6759b12"
      },
      "execution_count": 6,
      "outputs": [
        {
          "output_type": "stream",
          "name": "stdout",
          "text": [
            "Batch input:  [[2, 1, 0.5, 4.2], [3, 0.33, -0.2, 12], [0.8, 5, 4, 10]]\n",
            "input shape:  (3, 4)\n",
            "weights shape:  (3, 4)\n",
            "Transpoing weights inorder to perform dot product:\n",
            " [[ 0.2   0.5  -0.26]\n",
            " [ 0.8  -0.91 -0.27]\n",
            " [-0.5   0.26  0.17]\n",
            " [ 1.   -0.5   0.87]]\n",
            "--------output------------\n",
            " [[ 7.15    1.12    3.449 ]\n",
            " [14.964  -1.8523 10.0369]\n",
            " [14.16   -5.11    8.322 ]]\n"
          ]
        }
      ]
    },
    {
      "cell_type": "markdown",
      "source": [
        "**2-Layer Neural Network**\n",
        "\n",
        "- 4 input layer Neuron\n",
        "- First Layer: 3 output neurons\n",
        "- Second Layer: 3 output neurons\n",
        "- taking BATCH INPUT\n"
      ],
      "metadata": {
        "id": "BqmplmSwuICq"
      }
    },
    {
      "cell_type": "code",
      "source": [
        "\"\"\"4 input neurons, 3 output neurons\"\"\"\n",
        "# batch input\n",
        "input=[[2,1,0.5,4.2],[3,0.33,-0.2,12],[0.8,5,4,10]]\n",
        "print(\"Batch input: \",input)\n",
        "\n",
        "layer1_wts = [[0.2,0.8,-0.5,1.0],\n",
        "       [0.5,-0.91,0.26,-0.5],\n",
        "       [-0.26,-0.27,0.17,0.87]\n",
        "      ]\n",
        "layer1_bias=[2,3,0.5]\n",
        "\n",
        "print(\"------------------------------------Layer1 calculation-------------------------------------\")\n",
        "print(\"input shape: \",np.array(input).shape)\n",
        "print(\"weights shape: \",np.array(layer1_wts).shape)\n",
        "print(\"Transpoing weights inorder to perform dot product:\\n\",np.array(layer1_wts).T)\n",
        "layer1_output = np.dot(input,np.array(layer1_wts).T)+layer1_bias\n",
        "print(\"--------layer_1 output------------\\n\",layer1_output)\n",
        "\n",
        "\"\"\"Layer2 has 3 neurons -\"\"\"\n",
        "layer2_wts = [[0.3,0.8,-0.5],\n",
        "       [0.05,-0.1,0.36],\n",
        "       [-0.126,-0.7,0.17]\n",
        "      ]\n",
        "layer2_bias=[5,1,0.43]\n",
        "print(\"-----Layer 1 output will be input for layer2-------\")\n",
        "print(\"------------------------------------Layer2 calculation-------------------------------------\")\n",
        "print(\"layer1 output shape:\",np.array(layer1_output).shape)\n",
        "print(\"weights shape: \",np.array(layer2_wts).shape)\n",
        "layer2_output=np.dot(np.array(layer1_output),np.array(layer2_wts))+layer2_bias\n",
        "print(\"------------layer_2 output-------------\\n\",layer2_output)\n",
        "\n",
        "\n"
      ],
      "metadata": {
        "colab": {
          "base_uri": "https://localhost:8080/"
        },
        "id": "PrA3PVAkuiwJ",
        "outputId": "361ecaee-6a9b-4190-b12f-0f23e6049fe9"
      },
      "execution_count": 7,
      "outputs": [
        {
          "output_type": "stream",
          "name": "stdout",
          "text": [
            "Batch input:  [[2, 1, 0.5, 4.2], [3, 0.33, -0.2, 12], [0.8, 5, 4, 10]]\n",
            "------------------------------------Layer1 calculation-------------------------------------\n",
            "input shape:  (3, 4)\n",
            "weights shape:  (3, 4)\n",
            "Transpoing weights inorder to perform dot product:\n",
            " [[ 0.2   0.5  -0.26]\n",
            " [ 0.8  -0.91 -0.27]\n",
            " [-0.5   0.26  0.17]\n",
            " [ 1.   -0.5   0.87]]\n",
            "--------layer_1 output------------\n",
            " [[ 7.15    1.12    3.449 ]\n",
            " [14.964  -1.8523 10.0369]\n",
            " [14.16   -5.11    8.322 ]]\n",
            "-----Layer 1 output will be input for layer2-------\n",
            "------------------------------------Layer2 calculation-------------------------------------\n",
            "layer1 output shape: (3, 3)\n",
            "weights shape:  (3, 3)\n",
            "------------layer_2 output-------------\n",
            " [[ 6.766426   4.1937    -2.15547  ]\n",
            " [ 8.1319356  6.1306    -6.012555 ]\n",
            " [ 7.943928   7.0136    -7.07486  ]]\n"
          ]
        }
      ]
    },
    {
      "cell_type": "markdown",
      "source": [
        "**OOPs code - NN layers**"
      ],
      "metadata": {
        "id": "9_LIc5sgyly8"
      }
    },
    {
      "cell_type": "code",
      "source": [
        "np.random.seed(0)\n",
        "# 4 input neurons at 3 instance of time --- passed in batch\n",
        "X=[[2,1,0.5,4.2],[3,0.33,-0.2,12],[0.8,5,4,10]]\n",
        "\n",
        "class Dense_NN:\n",
        "  # n_inputs--> # of input neurons\n",
        "  # n_neurons--> # of output neurons in next layer\n",
        "  def __init__(self,n_inputs,n_neurons):\n",
        "    self.weights = 0.10*np.random.randn(n_inputs,n_neurons)\n",
        "    self.bias = np.zeros((1,n_neurons))\n",
        "  \n",
        "  def forward(self,inputs):\n",
        "    self.output = np.dot(inputs,self.weights) + self.bias\n",
        "\n",
        "print(\"Layer1 has 3 output neurons\")\n",
        "layer1 = Dense_NN(4,3)\n",
        "layer1.forward(X)\n",
        "print(\"layer1 output:\\n\",layer1.output)\n",
        "\n",
        "# layer2 has 5 output neurons\n",
        "print(\"layer2 has 5 output neurons\")\n",
        "layer2 = Dense_NN(3,5)\n",
        "layer2.forward(layer1.output)\n",
        "print(\"layer2 output:\\n\",layer2.output)"
      ],
      "metadata": {
        "colab": {
          "base_uri": "https://localhost:8080/"
        },
        "id": "s0gQvlRcyziI",
        "outputId": "a5e0272f-444e-474a-c123-f58c3537d912"
      },
      "execution_count": 8,
      "outputs": [
        {
          "output_type": "stream",
          "name": "stdout",
          "text": [
            "Layer1 has 3 output neurons\n",
            "layer1 output:\n",
            " [[0.79685558 0.31971768 0.70365374]\n",
            " [1.07688161 0.35755601 2.00856381]\n",
            " [2.05220466 1.04929226 1.00264607]]\n",
            "layer2 has 5 output neurons\n",
            "layer2 output:\n",
            " [[ 0.11491082 -0.03251765  0.16777467 -0.15737156  0.14317368]\n",
            " [ 0.24824672 -0.1247717   0.47315481 -0.34746954  0.19345604]\n",
            " [ 0.22132577 -0.01659273  0.22904627 -0.34522785  0.37978726]]\n"
          ]
        }
      ]
    },
    {
      "cell_type": "markdown",
      "source": [
        "**Activation Functions**\n"
      ],
      "metadata": {
        "id": "in7rPnLO6Wcs"
      }
    },
    {
      "cell_type": "code",
      "source": [
        "class Activation_ReLU:\n",
        "  def forward(self,inputs):\n",
        "    self.output = np.maximum(0,inputs) #RELU\n",
        "\n",
        "print(\"layer2 actual output:\\n\",layer2.output)\n",
        "activtn2 = Activation_ReLU()\n",
        "print(\"---Activating layer2 output with RELU-----\")\n",
        "activtn2.forward(layer2.output)\n",
        "print(activtn2.output)"
      ],
      "metadata": {
        "colab": {
          "base_uri": "https://localhost:8080/"
        },
        "id": "oynC8E9jbVCk",
        "outputId": "ccef6140-9eb8-4b99-9e35-182c59034ea4"
      },
      "execution_count": 13,
      "outputs": [
        {
          "output_type": "stream",
          "name": "stdout",
          "text": [
            "layer2 actual output:\n",
            " [[ 0.11491082 -0.03251765  0.16777467 -0.15737156  0.14317368]\n",
            " [ 0.24824672 -0.1247717   0.47315481 -0.34746954  0.19345604]\n",
            " [ 0.22132577 -0.01659273  0.22904627 -0.34522785  0.37978726]]\n",
            "---Activating layer2 output with RELU-----\n",
            "[[0.11491082 0.         0.16777467 0.         0.14317368]\n",
            " [0.24824672 0.         0.47315481 0.         0.19345604]\n",
            " [0.22132577 0.         0.22904627 0.         0.37978726]]\n"
          ]
        }
      ]
    },
    {
      "cell_type": "code",
      "source": [
        ""
      ],
      "metadata": {
        "id": "bWbVXZUSsAGw"
      },
      "execution_count": 8,
      "outputs": []
    },
    {
      "cell_type": "code",
      "source": [
        ""
      ],
      "metadata": {
        "id": "al0264LqsAKJ"
      },
      "execution_count": 8,
      "outputs": []
    },
    {
      "cell_type": "code",
      "source": [
        ""
      ],
      "metadata": {
        "id": "LvhHeDYRsANF"
      },
      "execution_count": 8,
      "outputs": []
    },
    {
      "cell_type": "code",
      "source": [
        ""
      ],
      "metadata": {
        "id": "oODREoHbsAP7"
      },
      "execution_count": 8,
      "outputs": []
    },
    {
      "cell_type": "code",
      "source": [
        ""
      ],
      "metadata": {
        "id": "0cwBeDnksASj"
      },
      "execution_count": 8,
      "outputs": []
    },
    {
      "cell_type": "code",
      "source": [
        ""
      ],
      "metadata": {
        "id": "urmrk7aWsAos"
      },
      "execution_count": 8,
      "outputs": []
    },
    {
      "cell_type": "markdown",
      "source": [
        ""
      ],
      "metadata": {
        "id": "E0ZbuK6PsAsi"
      }
    },
    {
      "cell_type": "code",
      "source": [
        ""
      ],
      "metadata": {
        "id": "4kuDFSyPsAzb"
      },
      "execution_count": 8,
      "outputs": []
    }
  ]
}